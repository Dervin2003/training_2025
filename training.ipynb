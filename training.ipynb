{
 "cells": [
  {
   "cell_type": "code",
   "execution_count": 2,
   "id": "34d7f704",
   "metadata": {},
   "outputs": [
    {
     "name": "stdout",
     "output_type": "stream",
     "text": [
      "Text: hello qwerty\n",
      "Result: lipps uaivxc\n",
      "Execution time: 0.0008658999995532213 seconds\n"
     ]
    }
   ],
   "source": [
    "import time\n",
    " \n",
    "def encrypt(text, shift):\n",
    "    print(f\"Text: {text}\")\n",
    "    result = \"\"\n",
    "    for char in text:\n",
    "        if 'a' <= char <= 'z':\n",
    "            new_ascii = ord(char) + shift\n",
    "            if new_ascii > ord('z'):\n",
    "                new_ascii -= 26\n",
    "            result += chr(new_ascii)\n",
    "        else:\n",
    "            result += char \n",
    "    return result\n",
    " \n",
    "start = time.perf_counter()\n",
    "text = encrypt(\"hello qwerty\", 4)\n",
    "print(\"Result:\", text)\n",
    "\n",
    "end = time.perf_counter()\n",
    "\n",
    "print(\"Execution time:\", end - start, \"seconds\")"
   ]
  },
  {
   "cell_type": "code",
   "execution_count": null,
   "id": "7b8c17ae",
   "metadata": {},
   "outputs": [],
   "source": []
  }
 ],
 "metadata": {
  "kernelspec": {
   "display_name": "Python 3",
   "language": "python",
   "name": "python3"
  },
  "language_info": {
   "codemirror_mode": {
    "name": "ipython",
    "version": 3
   },
   "file_extension": ".py",
   "mimetype": "text/x-python",
   "name": "python",
   "nbconvert_exporter": "python",
   "pygments_lexer": "ipython3",
   "version": "3.13.2"
  }
 },
 "nbformat": 4,
 "nbformat_minor": 5
}
